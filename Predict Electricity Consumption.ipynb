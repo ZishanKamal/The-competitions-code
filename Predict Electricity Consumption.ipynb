{
 "cells": [
  {
   "cell_type": "code",
   "execution_count": 52,
   "metadata": {
    "collapsed": true
   },
   "outputs": [],
   "source": [
    "import pandas as pd\n",
    "import numpy as np\n",
    "import matplotlib.pyplot as plt\n",
    "%matplotlib inline\n",
    "\n",
    "train = pd.read_csv('Data/train.csv')\n",
    "test = pd.read_csv('Data/test.csv')\n",
    "sample_sub = pd.read_csv('Data/sample_submission_q0Q3I1Z.csv')\n",
    "\n",
    "alldata = pd.concat([train,test])\n",
    "alldata['datetime'] = pd.to_datetime(alldata['datetime'])\n",
    "\n",
    "alldata['Day'] = alldata['datetime'].dt.day\n",
    "alldata['DOW'] = alldata['datetime'].dt.dayofweek\n",
    "alldata['Year'] = alldata['datetime'].dt.year\n",
    "alldata['Month'] = alldata['datetime'].dt.month\n",
    "# alldata['Date'] = alldata['datetime'].dt.date\n",
    "alldata['Hour'] = alldata['datetime'].dt.hour"
   ]
  },
  {
   "cell_type": "code",
   "execution_count": null,
   "metadata": {
    "collapsed": true
   },
   "outputs": [],
   "source": []
  },
  {
   "cell_type": "code",
   "execution_count": 53,
   "metadata": {
    "collapsed": true
   },
   "outputs": [],
   "source": [
    "# alldata['DOY'] = alldata['datetime'].dt.dayofyear\n",
    "# alldata['Week'] = alldata['datetime'].dt.week"
   ]
  },
  {
   "cell_type": "code",
   "execution_count": 54,
   "metadata": {},
   "outputs": [
    {
     "data": {
      "text/html": [
       "<div>\n",
       "<style>\n",
       "    .dataframe thead tr:only-child th {\n",
       "        text-align: right;\n",
       "    }\n",
       "\n",
       "    .dataframe thead th {\n",
       "        text-align: left;\n",
       "    }\n",
       "\n",
       "    .dataframe tbody tr th {\n",
       "        vertical-align: top;\n",
       "    }\n",
       "</style>\n",
       "<table border=\"1\" class=\"dataframe\">\n",
       "  <thead>\n",
       "    <tr style=\"text-align: right;\">\n",
       "      <th></th>\n",
       "      <th>ID</th>\n",
       "      <th>datetime</th>\n",
       "      <th>electricity_consumption</th>\n",
       "      <th>pressure</th>\n",
       "      <th>temperature</th>\n",
       "      <th>var1</th>\n",
       "      <th>var2</th>\n",
       "      <th>windspeed</th>\n",
       "      <th>Day</th>\n",
       "      <th>DOW</th>\n",
       "      <th>Year</th>\n",
       "      <th>Month</th>\n",
       "      <th>Hour</th>\n",
       "    </tr>\n",
       "  </thead>\n",
       "  <tbody>\n",
       "    <tr>\n",
       "      <th>0</th>\n",
       "      <td>0</td>\n",
       "      <td>2013-07-01 00:00:00</td>\n",
       "      <td>216.0</td>\n",
       "      <td>1003.0</td>\n",
       "      <td>-11.4</td>\n",
       "      <td>-17.1</td>\n",
       "      <td>A</td>\n",
       "      <td>571.910</td>\n",
       "      <td>1</td>\n",
       "      <td>0</td>\n",
       "      <td>2013</td>\n",
       "      <td>7</td>\n",
       "      <td>0</td>\n",
       "    </tr>\n",
       "    <tr>\n",
       "      <th>1</th>\n",
       "      <td>1</td>\n",
       "      <td>2013-07-01 01:00:00</td>\n",
       "      <td>210.0</td>\n",
       "      <td>996.0</td>\n",
       "      <td>-12.1</td>\n",
       "      <td>-19.3</td>\n",
       "      <td>A</td>\n",
       "      <td>575.040</td>\n",
       "      <td>1</td>\n",
       "      <td>0</td>\n",
       "      <td>2013</td>\n",
       "      <td>7</td>\n",
       "      <td>1</td>\n",
       "    </tr>\n",
       "    <tr>\n",
       "      <th>2</th>\n",
       "      <td>2</td>\n",
       "      <td>2013-07-01 02:00:00</td>\n",
       "      <td>225.0</td>\n",
       "      <td>1000.0</td>\n",
       "      <td>-12.9</td>\n",
       "      <td>-20.0</td>\n",
       "      <td>A</td>\n",
       "      <td>578.435</td>\n",
       "      <td>1</td>\n",
       "      <td>0</td>\n",
       "      <td>2013</td>\n",
       "      <td>7</td>\n",
       "      <td>2</td>\n",
       "    </tr>\n",
       "    <tr>\n",
       "      <th>3</th>\n",
       "      <td>3</td>\n",
       "      <td>2013-07-01 03:00:00</td>\n",
       "      <td>216.0</td>\n",
       "      <td>995.0</td>\n",
       "      <td>-11.4</td>\n",
       "      <td>-17.1</td>\n",
       "      <td>A</td>\n",
       "      <td>582.580</td>\n",
       "      <td>1</td>\n",
       "      <td>0</td>\n",
       "      <td>2013</td>\n",
       "      <td>7</td>\n",
       "      <td>3</td>\n",
       "    </tr>\n",
       "    <tr>\n",
       "      <th>4</th>\n",
       "      <td>4</td>\n",
       "      <td>2013-07-01 04:00:00</td>\n",
       "      <td>222.0</td>\n",
       "      <td>1005.0</td>\n",
       "      <td>-11.4</td>\n",
       "      <td>-19.3</td>\n",
       "      <td>A</td>\n",
       "      <td>586.600</td>\n",
       "      <td>1</td>\n",
       "      <td>0</td>\n",
       "      <td>2013</td>\n",
       "      <td>7</td>\n",
       "      <td>4</td>\n",
       "    </tr>\n",
       "  </tbody>\n",
       "</table>\n",
       "</div>"
      ],
      "text/plain": [
       "   ID            datetime  electricity_consumption  pressure  temperature  \\\n",
       "0   0 2013-07-01 00:00:00                    216.0    1003.0        -11.4   \n",
       "1   1 2013-07-01 01:00:00                    210.0     996.0        -12.1   \n",
       "2   2 2013-07-01 02:00:00                    225.0    1000.0        -12.9   \n",
       "3   3 2013-07-01 03:00:00                    216.0     995.0        -11.4   \n",
       "4   4 2013-07-01 04:00:00                    222.0    1005.0        -11.4   \n",
       "\n",
       "   var1 var2  windspeed  Day  DOW  Year  Month  Hour  \n",
       "0 -17.1    A    571.910    1    0  2013      7     0  \n",
       "1 -19.3    A    575.040    1    0  2013      7     1  \n",
       "2 -20.0    A    578.435    1    0  2013      7     2  \n",
       "3 -17.1    A    582.580    1    0  2013      7     3  \n",
       "4 -19.3    A    586.600    1    0  2013      7     4  "
      ]
     },
     "execution_count": 54,
     "metadata": {},
     "output_type": "execute_result"
    }
   ],
   "source": [
    "alldata.head()"
   ]
  },
  {
   "cell_type": "code",
   "execution_count": 55,
   "metadata": {
    "collapsed": true
   },
   "outputs": [],
   "source": [
    "temp = alldata.groupby(['DOW','Hour'], as_index=False)['electricity_consumption'].max().rename(columns={'electricity_consumption':'max_electricity_consumption'})\n",
    "alldata = pd.merge(alldata, temp, how='left', on=['DOW','Hour']) \n",
    "\n",
    "\n",
    "temp = alldata.groupby(['Hour','DOW'], as_index=False)['pressure'].min().rename(columns={'pressure':'min_pressure'})\n",
    "alldata = pd.merge(alldata, temp, how='left', on=['DOW','Hour']) \n",
    "\n",
    "temp = alldata.groupby(['DOW','Hour'], as_index=False)['pressure'].mean().rename(columns={'pressure':'mean_pressure'})\n",
    "alldata = pd.merge(alldata, temp, how='left', on=['DOW','Hour']) \n",
    "\n",
    "temp = alldata.groupby(['DOW','Hour'], as_index=False)['pressure'].max().rename(columns={'pressure':'max_pressure'})\n",
    "alldata = pd.merge(alldata, temp, how='left', on=['DOW','Hour']) \n",
    "\n",
    "\n",
    "temp = alldata.groupby(['Hour','DOW'], as_index=False)['windspeed'].min().rename(columns={'windspeed':'min_windspeed'})\n",
    "alldata = pd.merge(alldata, temp, how='left', on=['DOW','Hour']) \n",
    "\n",
    "temp = alldata.groupby(['DOW','Hour'], as_index=False)['windspeed'].mean().rename(columns={'windspeed':'mean_windspeed'})\n",
    "alldata = pd.merge(alldata, temp, how='left', on=['DOW','Hour']) \n",
    "\n",
    "temp = alldata.groupby(['DOW','Hour'], as_index=False)['windspeed'].max().rename(columns={'windspeed':'max_windspeed'})\n",
    "alldata = pd.merge(alldata, temp, how='left', on=['DOW','Hour']) \n",
    "\n",
    "\n",
    "temp = alldata.groupby(['Hour','DOW'], as_index=False)['temperature'].min().rename(columns={'temperature':'min_temperature'})\n",
    "alldata = pd.merge(alldata, temp, how='left', on=['DOW','Hour']) \n",
    "\n",
    "temp = alldata.groupby(['DOW','Hour'], as_index=False)['temperature'].mean().rename(columns={'temperature':'mean_temperature'})\n",
    "alldata = pd.merge(alldata, temp, how='left', on=['DOW','Hour']) \n",
    "\n",
    "temp = alldata.groupby(['DOW','Hour'], as_index=False)['temperature'].max().rename(columns={'temperature':'max_temperature'})\n",
    "alldata = pd.merge(alldata, temp, how='left', on=['DOW','Hour']) \n",
    "\n",
    "\n",
    "temp = alldata.groupby(['Hour','DOW'], as_index=False)['var1'].min().rename(columns={'var1':'min_var1_temperature'})\n",
    "alldata = pd.merge(alldata, temp, how='left', on=['DOW','Hour']) \n",
    "\n",
    "temp = alldata.groupby(['DOW','Hour'], as_index=False)['var1'].mean().rename(columns={'var1':'mean_var1_temperature'})\n",
    "alldata = pd.merge(alldata, temp, how='left', on=['DOW','Hour']) \n",
    "\n",
    "temp = alldata.groupby(['DOW','Hour'], as_index=False)['var1'].max().rename(columns={'var1':'max_var1_temperature'})\n",
    "alldata = pd.merge(alldata, temp, how='left', on=['DOW','Hour']) "
   ]
  },
  {
   "cell_type": "code",
   "execution_count": null,
   "metadata": {
    "collapsed": true
   },
   "outputs": [],
   "source": []
  },
  {
   "cell_type": "code",
   "execution_count": 56,
   "metadata": {
    "collapsed": true
   },
   "outputs": [],
   "source": [
    "def DayTimes(Hour):\n",
    "    if Hour in range(0,5):\n",
    "        return \"MidNight\"\n",
    "    elif Hour in range(5,7):\n",
    "        return \"Morning\"\n",
    "    elif Hour in range(7,17):\n",
    "        return \"Afternoon\"\n",
    "    elif Hour in range(17,24):\n",
    "        return \"Night\"\n",
    "    \n",
    "def Weekend(DOW):\n",
    "    if DOW in [0,5,6]:\n",
    "        return 1\n",
    "    else:\n",
    "        return 0"
   ]
  },
  {
   "cell_type": "code",
   "execution_count": 57,
   "metadata": {
    "collapsed": true
   },
   "outputs": [],
   "source": [
    "alldata['DayTime'] = alldata['Hour'].apply(DayTimes)\n",
    "alldata['WeekendFlag'] = alldata['DOW'].apply(Weekend)\n",
    "alldata['Holiday'] = alldata.DOW > 5"
   ]
  },
  {
   "cell_type": "code",
   "execution_count": null,
   "metadata": {
    "collapsed": true
   },
   "outputs": [],
   "source": []
  },
  {
   "cell_type": "code",
   "execution_count": 58,
   "metadata": {
    "collapsed": true
   },
   "outputs": [],
   "source": [
    "alldata['VAR_TEMP'] = alldata['var1']/ alldata['temperature']\n",
    "alldata['VAR_PRE'] = alldata['var1'] / alldata['pressure']\n",
    "alldata['VAR_WIN'] = alldata['var1']/ alldata['windspeed']\n",
    "# \n",
    "alldata['INV_VAR_TEMP'] = alldata['temperature'] /alldata['var1']\n",
    "alldata['INV_VAR_PRE'] =  alldata['pressure']/alldata['var1']\n",
    "alldata['INV_VAR_WIN'] = alldata['windspeed']/alldata['var1']"
   ]
  },
  {
   "cell_type": "code",
   "execution_count": 59,
   "metadata": {
    "collapsed": true
   },
   "outputs": [],
   "source": [
    "alldata.drop('var1', axis=1, inplace=True)"
   ]
  },
  {
   "cell_type": "code",
   "execution_count": 60,
   "metadata": {
    "collapsed": true
   },
   "outputs": [],
   "source": [
    "from sklearn.preprocessing import LabelEncoder\n",
    "encoder = LabelEncoder()\n",
    "alldata['var2'] = encoder.fit_transform(alldata['var2'])\n",
    "# alldata['Date'] = encoder.fit_transform(alldata['Date'])\n",
    "\n",
    "alldata['DayTime'] = encoder.fit_transform(alldata['DayTime'])"
   ]
  },
  {
   "cell_type": "code",
   "execution_count": 61,
   "metadata": {},
   "outputs": [
    {
     "data": {
      "text/plain": [
       "Index(['ID', 'datetime', 'electricity_consumption', 'pressure', 'temperature',\n",
       "       'var2', 'windspeed', 'Day', 'DOW', 'Year', 'Month', 'Hour',\n",
       "       'max_electricity_consumption', 'min_pressure', 'mean_pressure',\n",
       "       'max_pressure', 'min_windspeed', 'mean_windspeed', 'max_windspeed',\n",
       "       'min_temperature', 'mean_temperature', 'max_temperature',\n",
       "       'min_var1_temperature', 'mean_var1_temperature', 'max_var1_temperature',\n",
       "       'DayTime', 'WeekendFlag', 'Holiday', 'VAR_TEMP', 'VAR_PRE', 'VAR_WIN',\n",
       "       'INV_VAR_TEMP', 'INV_VAR_PRE', 'INV_VAR_WIN'],\n",
       "      dtype='object')"
      ]
     },
     "execution_count": 61,
     "metadata": {},
     "output_type": "execute_result"
    }
   ],
   "source": [
    "alldata.columns"
   ]
  },
  {
   "cell_type": "code",
   "execution_count": 62,
   "metadata": {
    "collapsed": true
   },
   "outputs": [],
   "source": [
    "cols_to_drop = ['datetime', 'ID']\n",
    "alldata.drop(cols_to_drop, axis=1,inplace=True)"
   ]
  },
  {
   "cell_type": "code",
   "execution_count": 63,
   "metadata": {
    "collapsed": true
   },
   "outputs": [],
   "source": [
    "train_feats = alldata[~pd.isnull(alldata.electricity_consumption)]\n",
    "test_feats = alldata[pd.isnull(alldata.electricity_consumption)]"
   ]
  },
  {
   "cell_type": "code",
   "execution_count": 64,
   "metadata": {
    "collapsed": true
   },
   "outputs": [],
   "source": [
    "X_TEST_RAW = test_feats.copy()\n",
    "X_TRAIN_RAW = train_feats.copy()"
   ]
  },
  {
   "cell_type": "code",
   "execution_count": 65,
   "metadata": {
    "collapsed": true
   },
   "outputs": [],
   "source": [
    "from sklearn.model_selection import train_test_split\n",
    "from sklearn.metrics import mean_absolute_error, mean_squared_error"
   ]
  },
  {
   "cell_type": "code",
   "execution_count": 66,
   "metadata": {
    "collapsed": true
   },
   "outputs": [],
   "source": [
    "from lightgbm import LGBMRegressor\n",
    "from math import sqrt\n",
    "def RMSE(y_actual, preds, log = False):\n",
    "    if log:\n",
    "        RMSE = sqrt(mean_squared_error(y_actual, np.expm1(preds)))\n",
    "    else:\n",
    "        RMSE = sqrt(mean_squared_error(y_actual, preds))\n",
    "    return RMSE"
   ]
  },
  {
   "cell_type": "code",
   "execution_count": 67,
   "metadata": {
    "collapsed": true
   },
   "outputs": [],
   "source": [
    "# GradientBoostingRegressor() \n",
    "# 95 LB\n",
    "# XGBRegressor() 95.2392449986971"
   ]
  },
  {
   "cell_type": "code",
   "execution_count": 68,
   "metadata": {
    "collapsed": true
   },
   "outputs": [],
   "source": [
    "def LOCAL_TEST():\n",
    "    n = 10\n",
    "    YEAR_LIST = [2013, 2014, 2015, 2016, 2017]\n",
    "    for year in YEAR_LIST:\n",
    "        print (\"Predicting for the year...\", year)\n",
    "        Month_RMSE = []\n",
    "        for month in set(X_TRAIN_RAW['Month']):\n",
    "            YR = year\n",
    "            if year == 2013:\n",
    "                M = 7\n",
    "                while M <= 12:\n",
    "                    X_train = X_TRAIN_RAW[(X_TRAIN_RAW['Day'] <= n) & (X_TRAIN_RAW['Month'] <= M) & (X_TRAIN_RAW['Year'] <= YR) ].drop('electricity_consumption', axis=1)\n",
    "                    y_train = X_TRAIN_RAW[(X_TRAIN_RAW['Day'] <= n) & (X_TRAIN_RAW['Month'] <= M) & (X_TRAIN_RAW['Year'] <= YR) ].electricity_consumption\n",
    "\n",
    "                    X_test = X_TRAIN_RAW[(X_TRAIN_RAW['Day'] > n) & (X_TRAIN_RAW['Month'] <= M) & (X_TRAIN_RAW['Year'] <= YR) ].drop('electricity_consumption', axis=1)\n",
    "                    y_test = X_TRAIN_RAW[(X_TRAIN_RAW['Day'] > n) & (X_TRAIN_RAW['Month'] <= M) & (X_TRAIN_RAW['Year'] <= YR) ].electricity_consumption\n",
    "\n",
    "\n",
    "                    X_train = X_train[cols]\n",
    "            \n",
    "                    light.fit(X_train, np.log1p(y_train))\n",
    "                    pred = light.predict(X_test[cols])\n",
    "\n",
    "                    Month_RMSE.append(RMSE(y_test, pred, log=True))\n",
    "                    M = M + 1\n",
    "            else:\n",
    "                \n",
    "                M= month\n",
    "\n",
    "                X_train = X_TRAIN_RAW[(X_TRAIN_RAW['Day'] <= n) & (X_TRAIN_RAW['Month'] <= M) & (X_TRAIN_RAW['Year'] <= YR) ].drop('electricity_consumption', axis=1)\n",
    "                y_train = X_TRAIN_RAW[(X_TRAIN_RAW['Day'] <= n) & (X_TRAIN_RAW['Month'] <= M) & (X_TRAIN_RAW['Year'] <= YR) ].electricity_consumption\n",
    "\n",
    "                X_test = X_TRAIN_RAW[(X_TRAIN_RAW['Day'] > n) & (X_TRAIN_RAW['Month'] <= M) & (X_TRAIN_RAW['Year'] <= YR) ].drop('electricity_consumption', axis=1)\n",
    "                y_test = X_TRAIN_RAW[(X_TRAIN_RAW['Day'] > n) & (X_TRAIN_RAW['Month'] <= M) & (X_TRAIN_RAW['Year'] <= YR) ].electricity_consumption\n",
    "\n",
    "                X_train = X_train[cols]\n",
    "\n",
    "                light.fit(X_train, np.log1p(y_train))\n",
    "                pred = light.predict(X_test[cols])\n",
    "\n",
    "                Month_RMSE.append(RMSE(y_test, pred, log=True))\n",
    "        print (np.mean(Month_RMSE))"
   ]
  },
  {
   "cell_type": "code",
   "execution_count": 69,
   "metadata": {},
   "outputs": [],
   "source": [
    "from sklearn.linear_model import LinearRegression\n",
    "from sklearn.ensemble import GradientBoostingRegressor, RandomForestRegressor\n",
    "from xgboost import XGBRegressor\n",
    "from sklearn.svm import LinearSVR\n",
    "from sklearn.neural_network import MLPRegressor"
   ]
  },
  {
   "cell_type": "code",
   "execution_count": 83,
   "metadata": {
    "collapsed": true
   },
   "outputs": [],
   "source": [
    "cols = ['pressure', \n",
    "        \n",
    "        'temperature', 'var2',\n",
    "        \n",
    "       'windspeed', \n",
    "        \n",
    "        'Day', \n",
    "        \n",
    "        'DOW', \n",
    "        'Year',\n",
    "        \n",
    "        'Month',\n",
    "        \n",
    "        'Hour',\n",
    "       'max_electricity_consumption',\n",
    "        \n",
    "        'min_pressure',\n",
    "        \n",
    "        'mean_pressure',\n",
    "        \n",
    "       'max_pressure', \n",
    "        \n",
    "        'min_windspeed', \n",
    "        \n",
    "        'mean_windspeed', 'max_windspeed',\n",
    "       'min_temperature', 'mean_temperature', 'max_temperature',\n",
    "        \n",
    "       'min_var1_temperature', 'mean_var1_temperature', 'max_var1_temperature',\n",
    "       'DayTime',  'Holiday', 'VAR_TEMP', 'VAR_PRE', 'VAR_WIN',\n",
    "       'INV_VAR_TEMP', 'INV_VAR_PRE', 'INV_VAR_WIN'\n",
    "       \n",
    "       ]"
   ]
  },
  {
   "cell_type": "code",
   "execution_count": 139,
   "metadata": {
    "collapsed": true
   },
   "outputs": [],
   "source": [
    "light =  XGBRegressor(n_estimators=99, min_child_weight= 2)"
   ]
  },
  {
   "cell_type": "code",
   "execution_count": 140,
   "metadata": {},
   "outputs": [
    {
     "name": "stdout",
     "output_type": "stream",
     "text": [
      "Predicting for the year... 2013\n",
      "117.54318228129335\n",
      "Predicting for the year... 2014\n",
      "105.33196612128567\n",
      "Predicting for the year... 2015\n",
      "100.03398373702157\n",
      "Predicting for the year... 2016\n",
      "92.47414456364476\n",
      "Predicting for the year... 2017\n",
      "87.85942954468449\n"
     ]
    }
   ],
   "source": [
    "LOCAL_TEST()"
   ]
  },
  {
   "cell_type": "code",
   "execution_count": 141,
   "metadata": {
    "collapsed": true
   },
   "outputs": [],
   "source": [
    "from numpy import loadtxt\n",
    "from xgboost import XGBClassifier\n",
    "from xgboost import plot_importance\n",
    "from matplotlib import pyplot"
   ]
  },
  {
   "cell_type": "code",
   "execution_count": 142,
   "metadata": {},
   "outputs": [
    {
     "data": {
      "text/plain": [
       "<matplotlib.axes._subplots.AxesSubplot at 0x111a5ba90>"
      ]
     },
     "execution_count": 142,
     "metadata": {},
     "output_type": "execute_result"
    },
    {
     "data": {
      "image/png": "[encoded data removed]",
      "text/plain": [
       "<matplotlib.figure.Figure at 0x110a55358>"
      ]
     },
     "metadata": {},
     "output_type": "display_data"
    }
   ],
   "source": [
    "plot_importance(light, height=.6)"
   ]
  },
  {
   "cell_type": "code",
   "execution_count": null,
   "metadata": {
    "collapsed": true
   },
   "outputs": [],
   "source": []
  },
  {
   "cell_type": "code",
   "execution_count": 143,
   "metadata": {},
   "outputs": [],
   "source": [
    "# pd.DataFrame({'Feats': X_TRAIN_RAW.drop('electricity_consumption', axis=1).columns, 'IMP': light.feature_importances_}).sort_values(by=\"IMP\", ascending=0)"
   ]
  },
  {
   "cell_type": "code",
   "execution_count": null,
   "metadata": {
    "collapsed": true
   },
   "outputs": [],
   "source": []
  },
  {
   "cell_type": "code",
   "execution_count": 158,
   "metadata": {},
   "outputs": [],
   "source": [
    "X_TRAIN_RAW.fillna(-1, inplace=True)\n",
    "X_TEST_RAW.fillna(-1, inplace=True)"
   ]
  },
  {
   "cell_type": "code",
   "execution_count": 196,
   "metadata": {
    "collapsed": true
   },
   "outputs": [],
   "source": [
    "def TIME_MACHINE():\n",
    "    pd.options.mode.chained_assignment = None  # default='warn'\n",
    "    n = 23\n",
    "    GENERATED_TEST  = pd.DataFrame()\n",
    "    YEAR_LIST = [2013, 2014, 2015, 2016, 2017]\n",
    "    for year in YEAR_LIST:\n",
    "        print (\"Predicting for the year:\", year)\n",
    "        for month in (set(X_TRAIN_RAW['Month'])):\n",
    "            YR = year\n",
    "            \n",
    "            if year == 2013:\n",
    "                M = 7\n",
    "                while M <= 12:\n",
    "                    X  = X_TRAIN_RAW[(X_TRAIN_RAW['Day'] <= n) & (X_TRAIN_RAW['Month'] <= M) & (X_TRAIN_RAW['Year'] <= YR) ].drop('electricity_consumption', axis=1)\n",
    "                    y = X_TRAIN_RAW[(X_TRAIN_RAW['Day'] <= n) & (X_TRAIN_RAW['Month'] <= M) & (X_TRAIN_RAW['Year'] <= YR) ].electricity_consumption\n",
    "                    X_TEST  = X_TEST_RAW[(X_TEST_RAW['Day'] > 23 ) & (X_TEST_RAW['Month'] <= M) & (X_TEST_RAW['Year'] <= YR) ].drop('electricity_consumption', axis=1)          \n",
    "                    \n",
    "                    \n",
    "                    X = X[cols]\n",
    "                    \n",
    "                    light.fit(X, np.log1p(y))\n",
    "                    pred = light.predict(X_TEST[cols])\n",
    "                    X_TEST['electricity_consumption'] = pred\n",
    "                    GENERATED_TEST = pd.concat([GENERATED_TEST,X_TEST])   \n",
    "                    M = M + 1\n",
    "            else: \n",
    "                M = month\n",
    "\n",
    "                  \n",
    "                X = X_TRAIN_RAW[(X_TRAIN_RAW['Day'] < n) & (X_TRAIN_RAW['Month'] <= M) & (X_TRAIN_RAW['Year'] <= YR) ].drop('electricity_consumption', axis=1)\n",
    "                y = X_TRAIN_RAW[(X_TRAIN_RAW['Day'] < n) & (X_TRAIN_RAW['Month'] <= M) & (X_TRAIN_RAW['Year'] <= YR) ].electricity_consumption\n",
    "\n",
    "                X_TEST  = X_TEST_RAW[(X_TEST_RAW['Day'] > 23 ) & (X_TEST_RAW['Month'] <= M) & (X_TEST_RAW['Year'] <= YR) ].drop('electricity_consumption', axis=1)\n",
    "\n",
    "                X = X[cols]\n",
    "\n",
    "                light.fit(X, np.log1p(y))\n",
    "                pred = light.predict(X_TEST[cols])\n",
    "                X_TEST['electricity_consumption'] = pred\n",
    "                GENERATED_TEST = pd.concat([GENERATED_TEST,X_TEST])\n",
    "                \n",
    "    GENt = GENERATED_TEST[['Year', 'Day','Month', 'Hour','DOW','electricity_consumption']]\n",
    "    test_feats['ID'] = test['ID'].values\n",
    "    REAL_PREDS = pd.merge(GENt,test_feats , on=['Year','Day', 'Month', 'Hour', 'DOW'])\n",
    "    REAL_PREDS = REAL_PREDS[['electricity_consumption_x','ID']].sort_values(by='ID', ascending=1).rename(columns={\n",
    "    'electricity_consumption_x':'electricity_consumption'})[['ID','electricity_consumption']]\n",
    "    PREDS =  np.expm1(REAL_PREDS['electricity_consumption']).values\n",
    "    REAL_PREDS['electricity_consumption'] = PREDS\n",
    "    return PREDS,REAL_PREDS"
   ]
  },
  {
   "cell_type": "code",
   "execution_count": 145,
   "metadata": {},
   "outputs": [
    {
     "name": "stdout",
     "output_type": "stream",
     "text": [
      "Predicting for the year: 2013\n",
      "Predicting for the year: 2014\n",
      "Predicting for the year: 2015\n",
      "Predicting for the year: 2016\n",
      "Predicting for the year: 2017\n"
     ]
    }
   ],
   "source": [
    "pred, sub = TIME_MACHINE()"
   ]
  },
  {
   "cell_type": "code",
   "execution_count": 160,
   "metadata": {
    "collapsed": true
   },
   "outputs": [],
   "source": [
    "from sklearn.neighbors import KNeighborsRegressor"
   ]
  },
  {
   "cell_type": "code",
   "execution_count": 161,
   "metadata": {
    "collapsed": true
   },
   "outputs": [
    {
     "name": "stdout",
     "output_type": "stream",
     "text": [
      "Predicting for the year: 2013\n",
      "Predicting for the year: 2014\n",
      "Predicting for the year: 2015\n",
      "Predicting for the year: 2016\n",
      "Predicting for the year: 2017\n",
      "Predicting for the year: 2013\n",
      "Predicting for the year: 2014\n",
      "Predicting for the year: 2015\n",
      "Predicting for the year: 2016\n",
      "Predicting for the year: 2017\n",
      "Predicting for the year: 2013\n"
     ]
    },
    {
     "ename": "ValueError",
     "evalue": "Input contains NaN, infinity or a value too large for dtype('float64').",
     "output_type": "error",
     "traceback": [
      "\u001b[0;31m---------------------------------------------------------------------------\u001b[0m",
      "\u001b[0;31mValueError\u001b[0m                                Traceback (most recent call last)",
      "\u001b[0;32m<ipython-input-161-d0e77759771a>\u001b[0m in \u001b[0;36m<module>\u001b[0;34m()\u001b[0m\n\u001b[1;32m      6\u001b[0m \u001b[0;34m\u001b[0m\u001b[0m\n\u001b[1;32m      7\u001b[0m \u001b[0mlight\u001b[0m \u001b[0;34m=\u001b[0m \u001b[0mLinearRegression\u001b[0m\u001b[0;34m(\u001b[0m\u001b[0;34m)\u001b[0m\u001b[0;34m\u001b[0m\u001b[0m\n\u001b[0;32m----> 8\u001b[0;31m \u001b[0mpred3\u001b[0m\u001b[0;34m,\u001b[0m \u001b[0msub\u001b[0m \u001b[0;34m=\u001b[0m \u001b[0mTIME_MACHINE\u001b[0m\u001b[0;34m(\u001b[0m\u001b[0;34m)\u001b[0m\u001b[0;34m\u001b[0m\u001b[0m\n\u001b[0m\u001b[1;32m      9\u001b[0m \u001b[0;34m\u001b[0m\u001b[0m\n\u001b[1;32m     10\u001b[0m \u001b[0mlight\u001b[0m \u001b[0;34m=\u001b[0m \u001b[0mLinearSVR\u001b[0m\u001b[0;34m(\u001b[0m\u001b[0;34m)\u001b[0m\u001b[0;34m\u001b[0m\u001b[0m\n",
      "\u001b[0;32m<ipython-input-159-d2dbe4ac2d31>\u001b[0m in \u001b[0;36mTIME_MACHINE\u001b[0;34m()\u001b[0m\n\u001b[1;32m     20\u001b[0m \u001b[0;34m\u001b[0m\u001b[0m\n\u001b[1;32m     21\u001b[0m                     \u001b[0mlight\u001b[0m\u001b[0;34m.\u001b[0m\u001b[0mfit\u001b[0m\u001b[0;34m(\u001b[0m\u001b[0mX\u001b[0m\u001b[0;34m,\u001b[0m \u001b[0mnp\u001b[0m\u001b[0;34m.\u001b[0m\u001b[0mlog1p\u001b[0m\u001b[0;34m(\u001b[0m\u001b[0my\u001b[0m\u001b[0;34m)\u001b[0m\u001b[0;34m)\u001b[0m\u001b[0;34m\u001b[0m\u001b[0m\n\u001b[0;32m---> 22\u001b[0;31m                     \u001b[0mpred\u001b[0m \u001b[0;34m=\u001b[0m \u001b[0mlight\u001b[0m\u001b[0;34m.\u001b[0m\u001b[0mpredict\u001b[0m\u001b[0;34m(\u001b[0m\u001b[0mX_TEST\u001b[0m\u001b[0;34m[\u001b[0m\u001b[0mcols\u001b[0m\u001b[0;34m]\u001b[0m\u001b[0;34m)\u001b[0m\u001b[0;34m\u001b[0m\u001b[0m\n\u001b[0m\u001b[1;32m     23\u001b[0m                     \u001b[0mX_TEST\u001b[0m\u001b[0;34m[\u001b[0m\u001b[0;34m'electricity_consumption'\u001b[0m\u001b[0;34m]\u001b[0m \u001b[0;34m=\u001b[0m \u001b[0mpred\u001b[0m\u001b[0;34m\u001b[0m\u001b[0m\n\u001b[1;32m     24\u001b[0m                     \u001b[0mGENERATED_TEST\u001b[0m \u001b[0;34m=\u001b[0m \u001b[0mpd\u001b[0m\u001b[0;34m.\u001b[0m\u001b[0mconcat\u001b[0m\u001b[0;34m(\u001b[0m\u001b[0;34m[\u001b[0m\u001b[0mGENERATED_TEST\u001b[0m\u001b[0;34m,\u001b[0m\u001b[0mX_TEST\u001b[0m\u001b[0;34m]\u001b[0m\u001b[0;34m)\u001b[0m\u001b[0;34m\u001b[0m\u001b[0m\n",
      "\u001b[0;32m/anaconda3/lib/python3.6/site-packages/sklearn/linear_model/base.py\u001b[0m in \u001b[0;36mpredict\u001b[0;34m(self, X)\u001b[0m\n\u001b[1;32m    254\u001b[0m             \u001b[0mReturns\u001b[0m \u001b[0mpredicted\u001b[0m \u001b[0mvalues\u001b[0m\u001b[0;34m.\u001b[0m\u001b[0;34m\u001b[0m\u001b[0m\n\u001b[1;32m    255\u001b[0m         \"\"\"\n\u001b[0;32m--> 256\u001b[0;31m         \u001b[0;32mreturn\u001b[0m \u001b[0mself\u001b[0m\u001b[0;34m.\u001b[0m\u001b[0m_decision_function\u001b[0m\u001b[0;34m(\u001b[0m\u001b[0mX\u001b[0m\u001b[0;34m)\u001b[0m\u001b[0;34m\u001b[0m\u001b[0m\n\u001b[0m\u001b[1;32m    257\u001b[0m \u001b[0;34m\u001b[0m\u001b[0m\n\u001b[1;32m    258\u001b[0m     \u001b[0m_preprocess_data\u001b[0m \u001b[0;34m=\u001b[0m \u001b[0mstaticmethod\u001b[0m\u001b[0;34m(\u001b[0m\u001b[0m_preprocess_data\u001b[0m\u001b[0;34m)\u001b[0m\u001b[0;34m\u001b[0m\u001b[0m\n",
      "\u001b[0;32m/anaconda3/lib/python3.6/site-packages/sklearn/linear_model/base.py\u001b[0m in \u001b[0;36m_decision_function\u001b[0;34m(self, X)\u001b[0m\n\u001b[1;32m    237\u001b[0m         \u001b[0mcheck_is_fitted\u001b[0m\u001b[0;34m(\u001b[0m\u001b[0mself\u001b[0m\u001b[0;34m,\u001b[0m \u001b[0;34m\"coef_\"\u001b[0m\u001b[0;34m)\u001b[0m\u001b[0;34m\u001b[0m\u001b[0m\n\u001b[1;32m    238\u001b[0m \u001b[0;34m\u001b[0m\u001b[0m\n\u001b[0;32m--> 239\u001b[0;31m         \u001b[0mX\u001b[0m \u001b[0;34m=\u001b[0m \u001b[0mcheck_array\u001b[0m\u001b[0;34m(\u001b[0m\u001b[0mX\u001b[0m\u001b[0;34m,\u001b[0m \u001b[0maccept_sparse\u001b[0m\u001b[0;34m=\u001b[0m\u001b[0;34m[\u001b[0m\u001b[0;34m'csr'\u001b[0m\u001b[0;34m,\u001b[0m \u001b[0;34m'csc'\u001b[0m\u001b[0;34m,\u001b[0m \u001b[0;34m'coo'\u001b[0m\u001b[0;34m]\u001b[0m\u001b[0;34m)\u001b[0m\u001b[0;34m\u001b[0m\u001b[0m\n\u001b[0m\u001b[1;32m    240\u001b[0m         return safe_sparse_dot(X, self.coef_.T,\n\u001b[1;32m    241\u001b[0m                                dense_output=True) + self.intercept_\n",
      "\u001b[0;32m/anaconda3/lib/python3.6/site-packages/sklearn/utils/validation.py\u001b[0m in \u001b[0;36mcheck_array\u001b[0;34m(array, accept_sparse, dtype, order, copy, force_all_finite, ensure_2d, allow_nd, ensure_min_samples, ensure_min_features, warn_on_dtype, estimator)\u001b[0m\n\u001b[1;32m    451\u001b[0m                              % (array.ndim, estimator_name))\n\u001b[1;32m    452\u001b[0m         \u001b[0;32mif\u001b[0m \u001b[0mforce_all_finite\u001b[0m\u001b[0;34m:\u001b[0m\u001b[0;34m\u001b[0m\u001b[0m\n\u001b[0;32m--> 453\u001b[0;31m             \u001b[0m_assert_all_finite\u001b[0m\u001b[0;34m(\u001b[0m\u001b[0marray\u001b[0m\u001b[0;34m)\u001b[0m\u001b[0;34m\u001b[0m\u001b[0m\n\u001b[0m\u001b[1;32m    454\u001b[0m \u001b[0;34m\u001b[0m\u001b[0m\n\u001b[1;32m    455\u001b[0m     \u001b[0mshape_repr\u001b[0m \u001b[0;34m=\u001b[0m \u001b[0m_shape_repr\u001b[0m\u001b[0;34m(\u001b[0m\u001b[0marray\u001b[0m\u001b[0;34m.\u001b[0m\u001b[0mshape\u001b[0m\u001b[0;34m)\u001b[0m\u001b[0;34m\u001b[0m\u001b[0m\n",
      "\u001b[0;32m/anaconda3/lib/python3.6/site-packages/sklearn/utils/validation.py\u001b[0m in \u001b[0;36m_assert_all_finite\u001b[0;34m(X)\u001b[0m\n\u001b[1;32m     42\u001b[0m             and not np.isfinite(X).all()):\n\u001b[1;32m     43\u001b[0m         raise ValueError(\"Input contains NaN, infinity\"\n\u001b[0;32m---> 44\u001b[0;31m                          \" or a value too large for %r.\" % X.dtype)\n\u001b[0m\u001b[1;32m     45\u001b[0m \u001b[0;34m\u001b[0m\u001b[0m\n\u001b[1;32m     46\u001b[0m \u001b[0;34m\u001b[0m\u001b[0m\n",
      "\u001b[0;31mValueError\u001b[0m: Input contains NaN, infinity or a value too large for dtype('float64')."
     ]
    }
   ],
   "source": [
    "light = XGBRegressor()\n",
    "pred1, sub = TIME_MACHINE()\n",
    "\n",
    "light = LGBMRegressor()\n",
    "pred2, sub = TIME_MACHINE()\n"
   ]
  },
  {
   "cell_type": "code",
   "execution_count": 197,
   "metadata": {},
   "outputs": [
    {
     "name": "stdout",
     "output_type": "stream",
     "text": [
      "Predicting for the year: 2013\n"
     ]
    },
    {
     "ename": "ValueError",
     "evalue": "Input contains NaN, infinity or a value too large for dtype('float32').",
     "output_type": "error",
     "traceback": [
      "\u001b[0;31m---------------------------------------------------------------------------\u001b[0m",
      "\u001b[0;31mValueError\u001b[0m                                Traceback (most recent call last)",
      "\u001b[0;32m<ipython-input-197-b9023c169237>\u001b[0m in \u001b[0;36m<module>\u001b[0;34m()\u001b[0m\n\u001b[1;32m      1\u001b[0m \u001b[0mlight\u001b[0m \u001b[0;34m=\u001b[0m \u001b[0mGradientBoostingRegressor\u001b[0m\u001b[0;34m(\u001b[0m\u001b[0;34m)\u001b[0m\u001b[0;34m\u001b[0m\u001b[0m\n\u001b[0;32m----> 2\u001b[0;31m \u001b[0mpred3\u001b[0m\u001b[0;34m,\u001b[0m \u001b[0msub\u001b[0m \u001b[0;34m=\u001b[0m \u001b[0mTIME_MACHINE\u001b[0m\u001b[0;34m(\u001b[0m\u001b[0;34m)\u001b[0m\u001b[0;34m\u001b[0m\u001b[0m\n\u001b[0m",
      "\u001b[0;32m<ipython-input-196-a248942a09eb>\u001b[0m in \u001b[0;36mTIME_MACHINE\u001b[0;34m()\u001b[0m\n\u001b[1;32m     20\u001b[0m \u001b[0;34m\u001b[0m\u001b[0m\n\u001b[1;32m     21\u001b[0m                     \u001b[0mlight\u001b[0m\u001b[0;34m.\u001b[0m\u001b[0mfit\u001b[0m\u001b[0;34m(\u001b[0m\u001b[0mX\u001b[0m\u001b[0;34m,\u001b[0m \u001b[0mnp\u001b[0m\u001b[0;34m.\u001b[0m\u001b[0mlog1p\u001b[0m\u001b[0;34m(\u001b[0m\u001b[0my\u001b[0m\u001b[0;34m)\u001b[0m\u001b[0;34m)\u001b[0m\u001b[0;34m\u001b[0m\u001b[0m\n\u001b[0;32m---> 22\u001b[0;31m                     \u001b[0mpred\u001b[0m \u001b[0;34m=\u001b[0m \u001b[0mlight\u001b[0m\u001b[0;34m.\u001b[0m\u001b[0mpredict\u001b[0m\u001b[0;34m(\u001b[0m\u001b[0mX_TEST\u001b[0m\u001b[0;34m[\u001b[0m\u001b[0mcols\u001b[0m\u001b[0;34m]\u001b[0m\u001b[0;34m)\u001b[0m\u001b[0;34m\u001b[0m\u001b[0m\n\u001b[0m\u001b[1;32m     23\u001b[0m                     \u001b[0mX_TEST\u001b[0m\u001b[0;34m[\u001b[0m\u001b[0;34m'electricity_consumption'\u001b[0m\u001b[0;34m]\u001b[0m \u001b[0;34m=\u001b[0m \u001b[0mpred\u001b[0m\u001b[0;34m\u001b[0m\u001b[0m\n\u001b[1;32m     24\u001b[0m                     \u001b[0mGENERATED_TEST\u001b[0m \u001b[0;34m=\u001b[0m \u001b[0mpd\u001b[0m\u001b[0;34m.\u001b[0m\u001b[0mconcat\u001b[0m\u001b[0;34m(\u001b[0m\u001b[0;34m[\u001b[0m\u001b[0mGENERATED_TEST\u001b[0m\u001b[0;34m,\u001b[0m\u001b[0mX_TEST\u001b[0m\u001b[0;34m]\u001b[0m\u001b[0;34m)\u001b[0m\u001b[0;34m\u001b[0m\u001b[0m\n",
      "\u001b[0;32m/anaconda3/lib/python3.6/site-packages/sklearn/ensemble/gradient_boosting.py\u001b[0m in \u001b[0;36mpredict\u001b[0;34m(self, X)\u001b[0m\n\u001b[1;32m   1889\u001b[0m             \u001b[0mThe\u001b[0m \u001b[0mpredicted\u001b[0m \u001b[0mvalues\u001b[0m\u001b[0;34m.\u001b[0m\u001b[0;34m\u001b[0m\u001b[0m\n\u001b[1;32m   1890\u001b[0m         \"\"\"\n\u001b[0;32m-> 1891\u001b[0;31m         \u001b[0mX\u001b[0m \u001b[0;34m=\u001b[0m \u001b[0mcheck_array\u001b[0m\u001b[0;34m(\u001b[0m\u001b[0mX\u001b[0m\u001b[0;34m,\u001b[0m \u001b[0mdtype\u001b[0m\u001b[0;34m=\u001b[0m\u001b[0mDTYPE\u001b[0m\u001b[0;34m,\u001b[0m \u001b[0morder\u001b[0m\u001b[0;34m=\u001b[0m\u001b[0;34m\"C\"\u001b[0m\u001b[0;34m,\u001b[0m  \u001b[0maccept_sparse\u001b[0m\u001b[0;34m=\u001b[0m\u001b[0;34m'csr'\u001b[0m\u001b[0;34m)\u001b[0m\u001b[0;34m\u001b[0m\u001b[0m\n\u001b[0m\u001b[1;32m   1892\u001b[0m         \u001b[0;32mreturn\u001b[0m \u001b[0mself\u001b[0m\u001b[0;34m.\u001b[0m\u001b[0m_decision_function\u001b[0m\u001b[0;34m(\u001b[0m\u001b[0mX\u001b[0m\u001b[0;34m)\u001b[0m\u001b[0;34m.\u001b[0m\u001b[0mravel\u001b[0m\u001b[0;34m(\u001b[0m\u001b[0;34m)\u001b[0m\u001b[0;34m\u001b[0m\u001b[0m\n\u001b[1;32m   1893\u001b[0m \u001b[0;34m\u001b[0m\u001b[0m\n",
      "\u001b[0;32m/anaconda3/lib/python3.6/site-packages/sklearn/utils/validation.py\u001b[0m in \u001b[0;36mcheck_array\u001b[0;34m(array, accept_sparse, dtype, order, copy, force_all_finite, ensure_2d, allow_nd, ensure_min_samples, ensure_min_features, warn_on_dtype, estimator)\u001b[0m\n\u001b[1;32m    451\u001b[0m                              % (array.ndim, estimator_name))\n\u001b[1;32m    452\u001b[0m         \u001b[0;32mif\u001b[0m \u001b[0mforce_all_finite\u001b[0m\u001b[0;34m:\u001b[0m\u001b[0;34m\u001b[0m\u001b[0m\n\u001b[0;32m--> 453\u001b[0;31m             \u001b[0m_assert_all_finite\u001b[0m\u001b[0;34m(\u001b[0m\u001b[0marray\u001b[0m\u001b[0;34m)\u001b[0m\u001b[0;34m\u001b[0m\u001b[0m\n\u001b[0m\u001b[1;32m    454\u001b[0m \u001b[0;34m\u001b[0m\u001b[0m\n\u001b[1;32m    455\u001b[0m     \u001b[0mshape_repr\u001b[0m \u001b[0;34m=\u001b[0m \u001b[0m_shape_repr\u001b[0m\u001b[0;34m(\u001b[0m\u001b[0marray\u001b[0m\u001b[0;34m.\u001b[0m\u001b[0mshape\u001b[0m\u001b[0;34m)\u001b[0m\u001b[0;34m\u001b[0m\u001b[0m\n",
      "\u001b[0;32m/anaconda3/lib/python3.6/site-packages/sklearn/utils/validation.py\u001b[0m in \u001b[0;36m_assert_all_finite\u001b[0;34m(X)\u001b[0m\n\u001b[1;32m     42\u001b[0m             and not np.isfinite(X).all()):\n\u001b[1;32m     43\u001b[0m         raise ValueError(\"Input contains NaN, infinity\"\n\u001b[0;32m---> 44\u001b[0;31m                          \" or a value too large for %r.\" % X.dtype)\n\u001b[0m\u001b[1;32m     45\u001b[0m \u001b[0;34m\u001b[0m\u001b[0m\n\u001b[1;32m     46\u001b[0m \u001b[0;34m\u001b[0m\u001b[0m\n",
      "\u001b[0;31mValueError\u001b[0m: Input contains NaN, infinity or a value too large for dtype('float32')."
     ]
    }
   ],
   "source": [
    "light = GradientBoostingRegressor()\n",
    "pred3, sub = TIME_MACHINE()"
   ]
  },
  {
   "cell_type": "code",
   "execution_count": null,
   "metadata": {
    "collapsed": true
   },
   "outputs": [],
   "source": []
  },
  {
   "cell_type": "code",
   "execution_count": 190,
   "metadata": {},
   "outputs": [],
   "source": [
    "pred = (3 * pred1 + 4* pred2) / 7"
   ]
  },
  {
   "cell_type": "code",
   "execution_count": 191,
   "metadata": {},
   "outputs": [],
   "source": [
    "sub['electricity_consumption'] = pred"
   ]
  },
  {
   "cell_type": "code",
   "execution_count": 192,
   "metadata": {},
   "outputs": [
    {
     "data": {
      "text/html": [
       "<div>\n",
       "<style>\n",
       "    .dataframe thead tr:only-child th {\n",
       "        text-align: right;\n",
       "    }\n",
       "\n",
       "    .dataframe thead th {\n",
       "        text-align: left;\n",
       "    }\n",
       "\n",
       "    .dataframe tbody tr th {\n",
       "        vertical-align: top;\n",
       "    }\n",
       "</style>\n",
       "<table border=\"1\" class=\"dataframe\">\n",
       "  <thead>\n",
       "    <tr style=\"text-align: right;\">\n",
       "      <th></th>\n",
       "      <th>ID</th>\n",
       "      <th>electricity_consumption</th>\n",
       "    </tr>\n",
       "  </thead>\n",
       "  <tbody>\n",
       "    <tr>\n",
       "      <th>0</th>\n",
       "      <td>552</td>\n",
       "      <td>212.563904</td>\n",
       "    </tr>\n",
       "    <tr>\n",
       "      <th>69</th>\n",
       "      <td>552</td>\n",
       "      <td>226.713700</td>\n",
       "    </tr>\n",
       "    <tr>\n",
       "      <th>68</th>\n",
       "      <td>552</td>\n",
       "      <td>227.941965</td>\n",
       "    </tr>\n",
       "    <tr>\n",
       "      <th>67</th>\n",
       "      <td>552</td>\n",
       "      <td>222.407881</td>\n",
       "    </tr>\n",
       "    <tr>\n",
       "      <th>66</th>\n",
       "      <td>552</td>\n",
       "      <td>212.563904</td>\n",
       "    </tr>\n",
       "  </tbody>\n",
       "</table>\n",
       "</div>"
      ],
      "text/plain": [
       "     ID  electricity_consumption\n",
       "0   552               212.563904\n",
       "69  552               226.713700\n",
       "68  552               227.941965\n",
       "67  552               222.407881\n",
       "66  552               212.563904"
      ]
     },
     "execution_count": 192,
     "metadata": {},
     "output_type": "execute_result"
    }
   ],
   "source": [
    "sub.head()"
   ]
  },
  {
   "cell_type": "code",
   "execution_count": 193,
   "metadata": {
    "collapsed": true
   },
   "outputs": [],
   "source": [
    "sub.to_csv('VAR2344.csv', index=None)"
   ]
  },
  {
   "cell_type": "code",
   "execution_count": null,
   "metadata": {
    "collapsed": true
   },
   "outputs": [],
   "source": []
  },
  {
   "cell_type": "code",
   "execution_count": null,
   "metadata": {
    "collapsed": true
   },
   "outputs": [],
   "source": []
  },
  {
   "cell_type": "code",
   "execution_count": null,
   "metadata": {
    "collapsed": true
   },
   "outputs": [],
   "source": []
  },
  {
   "cell_type": "code",
   "execution_count": null,
   "metadata": {
    "collapsed": true
   },
   "outputs": [],
   "source": []
  },
  {
   "cell_type": "code",
   "execution_count": null,
   "metadata": {
    "collapsed": true
   },
   "outputs": [],
   "source": []
  },
  {
   "cell_type": "code",
   "execution_count": null,
   "metadata": {
    "collapsed": true
   },
   "outputs": [],
   "source": []
  }
 ],
 "metadata": {
  "kernelspec": {
   "display_name": "Python 3",
   "language": "python",
   "name": "python3"
  },
  "language_info": {
   "codemirror_mode": {
    "name": "ipython",
    "version": 3
   },
   "file_extension": ".py",
   "mimetype": "text/x-python",
   "name": "python",
   "nbconvert_exporter": "python",
   "pygments_lexer": "ipython3",
   "version": "3.6.3"
  }
 },
 "nbformat": 4,
 "nbformat_minor": 2
}
